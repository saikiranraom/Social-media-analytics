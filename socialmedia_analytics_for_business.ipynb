{
  "nbformat": 4,
  "nbformat_minor": 0,
  "metadata": {
    "colab": {
      "name": "socialmedia analytics for business.ipynb",
      "provenance": [],
      "collapsed_sections": []
    },
    "kernelspec": {
      "name": "python3",
      "display_name": "Python 3"
    }
  },
  "cells": [
    {
      "cell_type": "code",
      "metadata": {
        "id": "zIsH_bXvMwUG",
        "colab_type": "code",
        "outputId": "f14f7e68-f4a4-4418-8c7c-04fd81d6bdb6",
        "colab": {
          "base_uri": "https://localhost:8080/",
          "height": 84
        }
      },
      "source": [
        "pip install nlppreprocess"
      ],
      "execution_count": 1,
      "outputs": [
        {
          "output_type": "stream",
          "text": [
            "Collecting nlppreprocess\n",
            "  Downloading https://files.pythonhosted.org/packages/66/8d/3a0584b924248c865a8e7ee04a93175551ebcaf156ee9b73346cd62446e6/nlppreprocess-1.0.2-py3-none-any.whl\n",
            "Installing collected packages: nlppreprocess\n",
            "Successfully installed nlppreprocess-1.0.2\n"
          ],
          "name": "stdout"
        }
      ]
    },
    {
      "cell_type": "code",
      "metadata": {
        "id": "ffJT9Xy4Lx2F",
        "colab_type": "code",
        "colab": {}
      },
      "source": [
        "import tweepy\n",
        "\n",
        "from nlppreprocess import NLP\n",
        "\n",
        "obj=NLP()\n",
        "\n",
        "term_or_hashtag='#royalenfield'           \n",
        "\n",
        "f= open(\"royalenfield.csv\",\"w+\",encoding=\"UTF-8\")  \n",
        "def DownloadData(searchTerm):\n",
        "        \n",
        "        consumerKey = 'HlynXAPUbkKAwn5UeUnT0wZAU'\n",
        "        consumerSecret = 'cIGMvsxRAsrzivzf61ZIDTLOpgZkRRUtYKcU1Mh4DdSPERZBLu'\n",
        "        accessToken = '3750770130-uihue4IE6RGpQyRPDTtQjkLQ99yz7m2pa7zWtXh'\n",
        "        accessTokenSecret = 'Q7ENF8Qtx4BT2FAExAUBGe3Te25s0qxNAr1ZALTiq1dAl'\n",
        "        auth = tweepy.OAuthHandler(consumerKey, consumerSecret)\n",
        "        auth.set_access_token(accessToken, accessTokenSecret)\n",
        "        api = tweepy.API(auth)\n",
        "\n",
        "        \n",
        "        \n",
        "        NoOfTerms = 1000                     \n",
        "        tweets = tweepy.Cursor(api.search, q=searchTerm, lang = \"en\").items(NoOfTerms)\n",
        "        for i in tweets:\n",
        "            text=obj.process(i.text)\n",
        "            f.write(text)\n",
        "            f.write('\\n')\n",
        "        \n",
        "if __name__ == '__main__':\n",
        "    DownloadData(term_or_hashtag)"
      ],
      "execution_count": 0,
      "outputs": []
    },
    {
      "cell_type": "code",
      "metadata": {
        "id": "QT8rZ_BPOUi2",
        "colab_type": "code",
        "colab": {}
      },
      "source": [
        "import spacy\n",
        "\n",
        "nlp = spacy.load(\"en_core_web_sm\")\n",
        "import numpy as np\n",
        "\n",
        "import pandas as pd\n",
        "ds=pd.read_csv(\"jawa.csv\")  \n",
        "df=ds.iloc[:,:].values\n",
        "df=np.array(df)\n",
        "df=df.flatten()\n",
        "l=[]\n",
        "for i in df:\n",
        "    doc = nlp(i)\n",
        "    for token in doc:\n",
        "        if  (token.pos_==\"ADJ\"):               \n",
        "            l.append(token)\n",
        "            \n",
        "\n",
        "for i in range(0,len(l)):\n",
        "    l[i]=str(l[i])\n",
        "\n",
        "f=open(\"jawa_adj.csv\", \"w+\",encoding=\"UTF-8\")             \n",
        "for i in l:\n",
        "     f.write(i)\n",
        "     f.write(\"\\n\")\n",
        "\n",
        "     \n",
        "f.close()"
      ],
      "execution_count": 0,
      "outputs": []
    }
  ]
}